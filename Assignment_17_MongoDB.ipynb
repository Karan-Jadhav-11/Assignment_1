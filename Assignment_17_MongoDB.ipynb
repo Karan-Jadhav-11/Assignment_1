{
 "cells": [
  {
   "cell_type": "raw",
   "id": "a2115843-94aa-4544-a8d0-37dafbeb8558",
   "metadata": {},
   "source": [
    "Q1. What is MongoDB? Explain non-relational databases in short. In which scenarios it is preferred to use\n",
    "MongoDB over SQL databases?\n",
    "Q2. State and Explain the features of MongoDB.\n",
    "Q3. Write a code to connect MongoDB to Python. Also, create a database and a collection in MongoDB.\n",
    "Q4. Using the database and the collection created in question number 3, write a code to insert one record,\n",
    "and insert many records. Use the find() and find_one() methods to print the inserted record.\n",
    "Q5. Explain how you can use the find() method to query the MongoDB database. Write a simple code to\n",
    "demonstrate this.\n",
    "Q6. Explain the sort() method. Give an example to demonstrate sorting in MongoDB.\n",
    "Q7. Explain why delete_one(), delete_many(), and drop() is used."
   ]
  },
  {
   "cell_type": "code",
   "execution_count": null,
   "id": "fea17632-a210-4a1a-a797-36e97cbc0bf1",
   "metadata": {},
   "outputs": [],
   "source": []
  },
  {
   "cell_type": "markdown",
   "id": "e4496f62-0110-4d75-8e0b-58b1a2bb416b",
   "metadata": {},
   "source": [
    "### Q1. What is MongoDB? Explain non-relational databases in short. In which scenarios it is preferred to use MongoDB over SQL databases?"
   ]
  },
  {
   "cell_type": "markdown",
   "id": "01e90ccd-53ca-4182-bc81-afa79c2bfe4a",
   "metadata": {},
   "source": [
    "ANS: \n",
    "    \n",
    "    MongoDB is a source-available, cross-platform, document-oriented database program. It is classified as a NoSQL database product, which means it does not use the tabular schema of rows and columns found in most traditional database systems. Instead, MongoDB utilizes JSON-like documents with optional schemas. It is developed by MongoDB Inc. and is known for its exceptional speed in retrieving data, delivering consistent retrieval times, and scalability.\n",
    "\n",
    "    A non-relational database, also known as a NoSQL database, stores data in a non-tabular form, and tends to be more flexible than the traditional, SQL-based, relational database structures. Non-relational databases might be based on data structures like documents4. They offer scalability when dealing with large volumes of data and are highly efficient in distributed environments\n",
    "    \n",
    "    MongoDB is often preferred over SQL databases in the following scenarios:\n",
    "    \n",
    "    1. Handling Large Volumes of Data: MongoDB excels at managing large volumes of data by offering seamless scalability without adding complexity to the application3.\n",
    "   \n",
    "    2. Managing Complex and Evolving Data Structures: MongoDB’s flexibility and capability to handle dynamic data models and unstructured datasets make it an ideal choice for scenarios involving complex and evolving data structures3.\n",
    "    3. Developing High-Performance Applications: Non-relational databases often perform faster because a query doesn’t have to view several tables in order to deliver an answer, as relational datasets often do."
   ]
  },
  {
   "cell_type": "code",
   "execution_count": null,
   "id": "555151e1-b1d2-4ada-9587-dc370e3093f0",
   "metadata": {},
   "outputs": [],
   "source": []
  },
  {
   "cell_type": "markdown",
   "id": "357d8821-769a-4c6a-a58a-fd23d94694cf",
   "metadata": {},
   "source": [
    "### Q2. State and Explain the features of MongoDB."
   ]
  },
  {
   "cell_type": "markdown",
   "id": "f2dc9d80-e1f9-4846-a0c5-deca8048fc3b",
   "metadata": {},
   "source": [
    "#### features of MongoDB.\n",
    "\n",
    "1. Document-Oriented Storage: MongoDB uses a document model, which means that data is stored as documents, and documents are grouped in collections11. This model is more natural for developers to work with because documents are self-contained and can be treated as objects.\n",
    "\n",
    "2. Flexible Schema: Documents in a single collection don’t necessarily need to have exactly the same set of fields. This flexibility allows developers to iterate faster and migrate data between different schemas without any downtime.\n",
    "\n",
    "3. Scalability: MongoDB is well known for its horizontal scaling and load balancing capabilities. It provides automatic sharding, or partitioning of data across multiple servers, enabling MongoDB to handle large-scale data across many machines.\n",
    "\n",
    "4. High Performance: MongoDB provides high performance data persistence. It supports rich query language, secondary indexes, and real-time aggregation for powerful analytical processing.\n",
    "\n",
    "5. Cloud-Based Developer Data Platform: MongoDB Atlas is the leading global cloud database service for modern applications. Developers can deploy fully managed cloud databases across AWS, Azure, and Google Cloud.\n",
    "\n",
    "6. Data Security: MongoDB offers best-in-class data security and privacy standards practices. It provides a robust set of security features, including access control, encryption at rest, encryption in transit, auditing, and more11.\n",
    "\n",
    "7. Support for Many Programming Languages: There are drivers for 10+ languages, with dozens more added by the community. This means you can create an application using any of these languages.\n",
    " \n",
    "8. BSON Format: Documents in MongoDB are stored in the BSON format, which is a binary-encoded JSON format. This allows for the storage of binary data, which is useful for storing images, videos, and other binary data.\n",
    "\n",
    "9. Support for Large Data: MongoDB also stores data far larger than relational databases. This is due to the document storage format employed by the database system called JSON."
   ]
  },
  {
   "cell_type": "code",
   "execution_count": null,
   "id": "6cd84a3f-fa80-4b9f-a930-27a116ea39a8",
   "metadata": {},
   "outputs": [],
   "source": []
  },
  {
   "cell_type": "markdown",
   "id": "b9b8dd14-5a73-4935-8a27-2fafffbe86f7",
   "metadata": {},
   "source": [
    "### Q3. Write a code to connect MongoDB to Python. Also, create a database and a collection in MongoDB."
   ]
  },
  {
   "cell_type": "markdown",
   "id": "4e7d1d07-2ad9-483a-adab-0c09155c80ad",
   "metadata": {},
   "source": [
    "Python code snippet that connects to a MongoDB server, creates a database, and a collection:"
   ]
  },
  {
   "cell_type": "code",
   "execution_count": 3,
   "id": "35e1542b-587d-43c3-b555-cb25a0be84a6",
   "metadata": {},
   "outputs": [
    {
     "name": "stdout",
     "output_type": "stream",
     "text": [
      "Collecting pymongo\n",
      "  Downloading pymongo-4.7.0-cp310-cp310-manylinux_2_17_x86_64.manylinux2014_x86_64.whl (670 kB)\n",
      "\u001b[2K     \u001b[90m━━━━━━━━━━━━━━━━━━━━━━━━━━━━━━━━━━━━━━\u001b[0m \u001b[32m670.1/670.1 kB\u001b[0m \u001b[31m15.6 MB/s\u001b[0m eta \u001b[36m0:00:00\u001b[0m00:01\u001b[0m\n",
      "\u001b[?25hCollecting dnspython<3.0.0,>=1.16.0\n",
      "  Downloading dnspython-2.6.1-py3-none-any.whl (307 kB)\n",
      "\u001b[2K     \u001b[90m━━━━━━━━━━━━━━━━━━━━━━━━━━━━━━━━━━━━━━\u001b[0m \u001b[32m307.7/307.7 kB\u001b[0m \u001b[31m38.3 MB/s\u001b[0m eta \u001b[36m0:00:00\u001b[0m\n",
      "\u001b[?25hInstalling collected packages: dnspython, pymongo\n",
      "Successfully installed dnspython-2.6.1 pymongo-4.7.0\n",
      "Note: you may need to restart the kernel to use updated packages.\n"
     ]
    }
   ],
   "source": [
    "pip install pymongo\n"
   ]
  },
  {
   "cell_type": "code",
   "execution_count": 4,
   "id": "fd50eaec-bf3e-4613-b482-75ca6698aa6c",
   "metadata": {},
   "outputs": [
    {
     "name": "stdout",
     "output_type": "stream",
     "text": [
      "Database and collection created!\n"
     ]
    }
   ],
   "source": [
    "\n",
    "import pymongo\n",
    "\n",
    "from pymongo import MongoClient\n",
    "\n",
    "# Create a connection to MongoDB\n",
    "client = MongoClient(\"mongodb://localhost:27017/\")\n",
    "\n",
    "# Create a database named \"mydatabase\"\n",
    "mydb = client[\"mydatabase\"]\n",
    "\n",
    "# Create a collection named \"customers\"\n",
    "mycol = mydb[\"customers\"]\n",
    "\n",
    "print(\"Database and collection created!\")\n"
   ]
  },
  {
   "cell_type": "markdown",
   "id": "8e34de68-2d6c-48d1-a363-d434954ffcc7",
   "metadata": {},
   "source": [
    "In this code:\n",
    "\n",
    "1. We import the MongoClient class from the pymongo package.\n",
    "2. We create a MongoClient object and connect to the MongoDB server running on localhost on port 27017.\n",
    "3. We access a specific database named 'my_database'. If this database doesn't exist, MongoDB will create it automatically.\n",
    "4. We access a specific collection named 'my_collection' within the 'my_database'. If this collection doesn't exist, MongoDB will create it automatically.\n",
    "5. We define a list of documents to insert into the collection.\n",
    "6. We use the insert_many() method to insert the documents into the collection.\n",
    "7. Finally, we print a success message indicating that the database and collection have been created successfully."
   ]
  },
  {
   "cell_type": "code",
   "execution_count": null,
   "id": "2a344d5b-b10d-41f7-a4d3-32d06f7ac823",
   "metadata": {},
   "outputs": [],
   "source": []
  },
  {
   "cell_type": "markdown",
   "id": "3d592af1-7b8a-4271-8c2f-2c5ee64d5af3",
   "metadata": {},
   "source": [
    "### Q4. Using the database and the collection created in question number 3, write a code to insert one record, and insert many records. Use the find() and find_one() methods to print the inserted record."
   ]
  },
  {
   "cell_type": "code",
   "execution_count": null,
   "id": "95f4933b-56dd-40ad-ba79-e05c48538391",
   "metadata": {},
   "outputs": [],
   "source": [
    "from pymongo import MongoClient\n",
    "\n",
    "# Create a connection to MongoDB\n",
    "client = MongoClient(\"mongodb://localhost:27017/\")\n",
    "\n",
    "# Access the database\n",
    "mydb = client[\"mydatabase\"]\n",
    "\n",
    "# Access the collection\n",
    "mycol = mydb[\"customers\"]\n",
    "\n",
    "# Insert one record\n",
    "record = {\"name\": \"John\", \"address\": \"Highway 37\"}\n",
    "inserted_record = mycol.insert_one(record)\n",
    "print(f\"Inserted record with id {inserted_record.inserted_id}\")\n",
    "\n",
    "# Insert many records\n",
    "records = [\n",
    "    {\"name\": \"Amy\", \"address\": \"Apple st 652\"},\n",
    "    {\"name\": \"Hannah\", \"address\": \"Mountain 21\"},\n",
    "    {\"name\": \"Michael\", \"address\": \"Valley 345\"},\n",
    "    {\"name\": \"Sandy\", \"address\": \"Ocean blvd 2\"},\n",
    "    {\"name\": \"Betty\", \"address\": \"Green Grass 1\"},\n",
    "    {\"name\": \"Richard\", \"address\": \"Sky st 331\"},\n",
    "    {\"name\": \"Susan\", \"address\": \"One way 98\"},\n",
    "    {\"name\": \"Vicky\", \"address\": \"Yellow Garden 2\"},\n",
    "    {\"name\": \"Ben\", \"address\": \"Park Lane 38\"},\n",
    "    {\"name\": \"William\", \"address\": \"Central st 954\"},\n",
    "    {\"name\": \"Chuck\", \"address\": \"Main Road 989\"},\n",
    "    {\"name\": \"Viola\", \"address\": \"Sideway 1633\"}\n",
    "]\n",
    "inserted_records = mycol.insert_many(records)\n",
    "print(f\"Inserted records with ids {inserted_records.inserted_ids}\")\n",
    "\n",
    "# Use find_one() to retrieve the first record that matches a query\n",
    "retrieved_record = mycol.find_one({\"name\": \"John\"})\n",
    "print(f\"Retrieved record: {retrieved_record}\")\n",
    "\n",
    "# Use find() to retrieve all records that match a query\n",
    "retrieved_records = mycol.find({\"address\": {\"$regex\": \"^S\"}})\n",
    "print(\"Retrieved records with address starting with 'S':\")\n",
    "for record in retrieved_records:\n",
    "    print(record)\n"
   ]
  },
  {
   "cell_type": "markdown",
   "id": "56737b58-3c6a-462f-a8bd-d89491c21be1",
   "metadata": {},
   "source": [
    "In this code:\n",
    "\n",
    "1. insert_one() is used to insert a single record into the collection.\n",
    "2. insert_many() is used to insert multiple records into the collection.\n",
    "3. find_one() is used to retrieve the first record that matches a query29.\n",
    "4. find() is used to retrieve all records that match a query29.\n",
    "\n",
    "Please replace \"localhost\" and \"27017\" with your MongoDB server’s IP and port if it’s not running on your local machine. Also, replace \"mydatabase\" and \"customers\" with your desired database and collection names."
   ]
  },
  {
   "cell_type": "code",
   "execution_count": null,
   "id": "57ad9b80-4453-425a-bfc8-feae9eacb88e",
   "metadata": {},
   "outputs": [],
   "source": []
  },
  {
   "cell_type": "markdown",
   "id": "592a0f4e-a975-4677-b4ff-dd35e66ca8df",
   "metadata": {},
   "source": [
    "### Q5. Explain how you can use the find() method to query the MongoDB database. Write a simple code to demonstrate this."
   ]
  },
  {
   "cell_type": "markdown",
   "id": "799829c3-bf4c-4e09-973f-eb454f364eb4",
   "metadata": {},
   "source": [
    "\n",
    "The find() method in MongoDB is used to query documents in a collection. It returns a cursor to the documents that match the query criteria11223344. The find() method takes up to three parameters:\n",
    "\n",
    "1. query: This is an optional parameter that specifies the selection filter using query operators. If you pass an empty document {}, the find() method returns all documents in the collection.\n",
    "\n",
    "2. projection: This is an optional parameter that specifies the fields to return in the documents that match the query filter. To return all fields in the matching documents, omit this parameter.\n",
    "\n",
    "3. options: This is an optional parameter that specifies additional options for the query.\n",
    "\n",
    "how to use the find() method with PyMongo:\n"
   ]
  },
  {
   "cell_type": "code",
   "execution_count": null,
   "id": "cad84658-f79a-41f4-8c79-f6ce13db7094",
   "metadata": {},
   "outputs": [],
   "source": [
    "from pymongo import MongoClient\n",
    "\n",
    "# Create a connection to MongoDB\n",
    "client = MongoClient(\"mongodb://localhost:27017/\")\n",
    "\n",
    "# Access the database\n",
    "mydb = client[\"mydatabase\"]\n",
    "\n",
    "# Access the collection\n",
    "mycol = mydb[\"customers\"]\n",
    "\n",
    "# Use find() to retrieve all records\n",
    "for record in mycol.find():\n",
    "    print(record)\n",
    "\n",
    "# Use find() with a query to retrieve records where \"name\" is \"John\"\n",
    "for record in mycol.find({\"name\": \"John\"}):\n",
    "    print(record)\n",
    "\n",
    "\n",
    "for record in mycol.find({\"address\": \"Highway 37\"}, {\"name\": 1}):\n",
    "    print(record)\n"
   ]
  },
  {
   "cell_type": "markdown",
   "id": "4cca472c-8f8a-4f44-8185-9c56c4246fad",
   "metadata": {},
   "source": [
    "In this code:\n",
    "\n",
    "1. mycol.find() retrieves all records from the collection.\n",
    "2. mycol.find({\"name\": \"John\"}) retrieves all records where the “name” field is \"John\".\n",
    "3. mycol.find({\"address\": \"Highway 37\"}, {\"name\": 1}) retrieves the “name” field of all records where the “address” field is \"Highway 37\".\n",
    "\n",
    "Please replace \"localhost\" and \"27017\" with your MongoDB server’s IP and port if it’s not running on your local machine. Also, replace \"mydatabase\" and \"customers\" with your desired database and collection names."
   ]
  },
  {
   "cell_type": "code",
   "execution_count": null,
   "id": "f6700326-62f8-4575-b40d-aabf00228a49",
   "metadata": {},
   "outputs": [],
   "source": []
  },
  {
   "cell_type": "markdown",
   "id": "cb0cf98a-17f4-477a-9ec8-cba290c37882",
   "metadata": {},
   "source": [
    "### Q6. Explain the sort() method. Give an example to demonstrate sorting in MongoDB."
   ]
  },
  {
   "cell_type": "markdown",
   "id": "bd0b7c37-e1ef-4a56-85d1-0fdcc5cd4007",
   "metadata": {},
   "source": [
    "\n",
    "In MongoDB, the sort() method is used to sort the documents returned by a query based on one or more fields. It allows you to specify the sort order (ascending or descending) for each field by providing a sort document.\n",
    "\n",
    "This method accepts a document containing a list of fields along with their sorting order. The sorting order is specified as 1 or -1.\n",
    "\n",
    "In the sort document:\n",
    "\n",
    "Each field to sort by is specified as a key-value pair, where the key is the field name and the value indicates the sort order.\n",
    "\n",
    "The sort order is represented by 1 for ascending order and -1 for descending order.\n",
    "\n",
    "For example, { \"age\": 1, \"name\": -1 } will sort the documents first by the \"age\" field in ascending order and then by the \"name\" field in descending order.\n",
    "\n",
    "##### #Find documents and sort them by the \"age\" field in ascending order\n",
    "cursor = collection.find().sort(\"age\", 1)\n",
    "\n",
    "##### #Iterate over the cursor and print the sorted documents\n",
    "print(\"Sorted documents (by age in ascending order):\")\n",
    "for document in cursor:\n",
    "    print(document)\n",
    "\n",
    "In this example:\n",
    "\n",
    "We use the find() method to query documents from the collection without specifying any filter criteria, so it returns all documents.\n",
    "\n",
    "We use the sort() method to sort the documents by the \"age\" field in ascending order (1).\n",
    "The sorted documents are then returned as a cursor object, which we iterate over using a for loop to print each document.\n"
   ]
  },
  {
   "cell_type": "code",
   "execution_count": null,
   "id": "79bfabae-4782-4186-bc14-a4ab790b96f0",
   "metadata": {},
   "outputs": [],
   "source": []
  },
  {
   "cell_type": "markdown",
   "id": "227f52a3-ada0-4b66-a494-caed0214b5d1",
   "metadata": {},
   "source": [
    "### Q7. Explain why delete_one(), delete_many(), and drop() is used."
   ]
  },
  {
   "cell_type": "markdown",
   "id": "5575c144-d7f0-4793-b4f2-75cd84f48c4d",
   "metadata": {},
   "source": [
    "\n",
    "In MongoDB, the delete_one(), delete_many(), and drop() methods are used for deleting documents and collections from a database. Each of these methods serves a different purpose:\n",
    "\n",
    "1. delete_one(): This method is used to delete a single document that matches the specified criteria. It accepts a filter document as a parameter to identify the document(s) to be deleted.Example:\n",
    "\n",
    "##### Delete one document with the name \"John\"\n",
    "\n",
    "collection.delete_one({\"name\": \"John\"})\n",
    "\n",
    "This will delete the first document that matches the criteria { \"name\": \"John\" }. If multiple documents match the criteria, only the first one encountered in the collection will be deleted.\n",
    "\n",
    "2. delete_many(): This method is used to delete multiple documents that match the specified criteria. Similar to delete_one(), it accepts a filter document as a parameter.Example:\n",
    "\n",
    "##### Delete all documents with age greater than 30\n",
    "\n",
    "collection.delete_many({\"age\": {\"$gt\": 30}})\n",
    "\n",
    "This will delete all documents in the collection where the \"age\" field is greater than 30.\n",
    "\n",
    "3. drop(): This method is used to drop an entire collection from the database. It permanently removes all documents and indexes associated with the collection.Example:\n",
    "\n",
    "##### Drop the collection named \"my_collection\"\n",
    "\n",
    "db.drop_collection(\"my_collection\")\n",
    "\n",
    "This will permanently remove the collection named \"my_collection\" from the database.\n",
    "These methods provide flexibility in managing data in MongoDB:\n",
    "\n",
    "delete_one() and delete_many() are used to selectively remove documents based on specific criteria, allowing for precise control over what data is deleted.\n",
    "\n",
    "drop() is used when you want to remove an entire collection, typically when you no longer need the data or when performing database cleanup tasks."
   ]
  }
 ],
 "metadata": {
  "kernelspec": {
   "display_name": "Python 3 (ipykernel)",
   "language": "python",
   "name": "python3"
  },
  "language_info": {
   "codemirror_mode": {
    "name": "ipython",
    "version": 3
   },
   "file_extension": ".py",
   "mimetype": "text/x-python",
   "name": "python",
   "nbconvert_exporter": "python",
   "pygments_lexer": "ipython3",
   "version": "3.10.8"
  }
 },
 "nbformat": 4,
 "nbformat_minor": 5
}

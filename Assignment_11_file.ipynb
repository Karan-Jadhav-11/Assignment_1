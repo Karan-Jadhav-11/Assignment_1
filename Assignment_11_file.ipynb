{
 "cells": [
  {
   "cell_type": "markdown",
   "id": "924614db-3d58-4c39-b794-bd4c18cd0444",
   "metadata": {},
   "source": [
    "### Q1. Which function is used to open a file? What are the different modes of opening a file? Explain each mode of file opening."
   ]
  },
  {
   "cell_type": "markdown",
   "id": "97aba769-e7e4-493a-9125-e98a38acc387",
   "metadata": {},
   "source": [
    " In Python, the open() function is used to open a file. It takes two parameters: the file name/path and the mode in which you want to open the file. The basic syntax looks like this: file_object = open(file_name, mode) \n",
    "\n",
    "There are several modes you can use to open a file: \n",
    "\n",
    "'r': This is the default mode. It opens the file for reading. If the file does not exist or cannot be found, it will raise an error. \n",
    "\n",
    "'w': This mode opens the file for writing. If the file does not exist, it creates a new file. If the file already exists, it truncates the file to zero length. \n",
    "\n",
    "'a': This mode opens the file for appending. If the file does not exist, it creates a new file. If the file already exists, it appends data to the end of the file. \n",
    "\n",
    "'b': This mode is used for binary files. It can be added to the modes above, such as 'rb' or 'wb', to indicate that the file should be opened in binary mode. \n",
    "\n",
    "'+': This mode allows you to read and write to the file simultaneously. It can be added to the modes above, such as 'r+', 'w+', or 'a+'.\n",
    "\n",
    "'x': This mode is used for exclusive creation, meaning it will fail if the file already exists.\n"
   ]
  },
  {
   "cell_type": "code",
   "execution_count": null,
   "id": "faf54855-bcc9-47bd-a8b1-7e20b4930a55",
   "metadata": {},
   "outputs": [],
   "source": [
    "# Open a file for writing\n",
    "file_write = open('example.txt', 'w')\n",
    "\n",
    "# Open a file for reading\n",
    "file_read = open('example.txt', 'r')\n",
    "\n",
    "# Open a file for appending\n",
    "file_append = open('example.txt', 'a')\n",
    "\n",
    "# Open a binary file for reading\n",
    "file_binary_read = open('example.bin', 'rb')\n",
    "\n",
    "# Open a file for reading and writing\n",
    "file_read_write = open('example.txt', 'r+')\n",
    "\n",
    "# Open a new file for writing (exclusive creation)\n",
    "file_new = open('new_file.txt', 'x')"
   ]
  },
  {
   "cell_type": "code",
   "execution_count": null,
   "id": "a84a4086-2ccd-4b09-9533-cda160700f57",
   "metadata": {},
   "outputs": [],
   "source": []
  },
  {
   "cell_type": "markdown",
   "id": "f498b436-fca3-4630-8a6d-2d191d35a1c6",
   "metadata": {},
   "source": [
    "### Q2. Why close() function is used? Why is it important to close a file?"
   ]
  },
  {
   "cell_type": "markdown",
   "id": "8e690df3-a332-4b71-9d4f-3b7b0153df86",
   "metadata": {},
   "source": [
    "The close() function in Python is used to close an opened file. \n",
    "\n",
    "It’s important to close files for several reasons:\n",
    "\n",
    "Releasing Resources: When you open a file, the operating system provides a file handle to read/write the file12. If you don’t close the file, these resources are not released, which can lead to resource leakage and potentially exhaust the limit of file handles that your system can open simultaneously.\n",
    "\n",
    "Data Consistency: Many changes to files in Python do not go into effect until after the file is closed1. So, if your script edits, leaves open, and reads a file, it might not see the edits.\n",
    "\n",
    "Preventing Locks: Some operating systems lock files when they are opened by a process1. This can prevent other processes from accessing the file until it is closed.\n",
    "\n",
    "Avoiding Data Loss: When writing to a file, the data may not be written to disk until the file is closed1. The longer you keep the file open, the greater the chance that you will lose data.\n",
    "\n",
    "Good Programming Practice: It’s considered good programming practice to close files as soon as they are no longer needed."
   ]
  },
  {
   "cell_type": "code",
   "execution_count": null,
   "id": "2ea211c5-7f3c-4668-a597-0c328bbba215",
   "metadata": {},
   "outputs": [],
   "source": []
  },
  {
   "cell_type": "markdown",
   "id": "bc97fa74-3149-4b2f-b55c-31d0d4a794e5",
   "metadata": {},
   "source": [
    "### Q3. Write a python program to create a text file. Write ‘I want to become a Data Scientist’ in that file. Then close the file. Open this file and read the content of the file."
   ]
  },
  {
   "cell_type": "code",
   "execution_count": 6,
   "id": "460cdb56-8148-4467-bf85-8568d6208982",
   "metadata": {},
   "outputs": [],
   "source": [
    "f = open(\"text.txt\", 'w')\n",
    "f.write(\"I want to become a Data Scientist\")\n",
    "f.close()"
   ]
  },
  {
   "cell_type": "code",
   "execution_count": 7,
   "id": "0031c2dd-a9a2-488e-89e1-6e1a8886c80b",
   "metadata": {},
   "outputs": [
    {
     "data": {
      "text/plain": [
       "'I want to become a Data Scientist'"
      ]
     },
     "execution_count": 7,
     "metadata": {},
     "output_type": "execute_result"
    }
   ],
   "source": [
    "f=open(\"text.txt\", 'r')\n",
    "f.read()"
   ]
  },
  {
   "cell_type": "code",
   "execution_count": null,
   "id": "875eceeb-763c-4c66-a829-68f67a0e21cf",
   "metadata": {},
   "outputs": [],
   "source": []
  },
  {
   "cell_type": "markdown",
   "id": "9ea20ac5-5580-4e33-8412-65f9d2e874ad",
   "metadata": {},
   "source": [
    "### Q4. Explain the following with python code: read(), readline() and readlines()."
   ]
  },
  {
   "cell_type": "markdown",
   "id": "262d8acd-9d8f-4dd8-aa37-a456decfcc40",
   "metadata": {},
   "source": [
    "1. read(): The read() method in Python is used to read the entire content of the file as a string. If a size parameter is provided, it reads up to that number of bytes."
   ]
  },
  {
   "cell_type": "code",
   "execution_count": 9,
   "id": "5b48316a-2f02-4d40-96f5-272c392ed1b5",
   "metadata": {},
   "outputs": [
    {
     "name": "stdout",
     "output_type": "stream",
     "text": [
      "Light Emitting Diodes (LEDs): LED displays consist of numerous individual LEDs arranged in a grid pattern.\n",
      "Each LED serves as a pixel on the display.\n",
      "Semiconductor Material: LEDs are made of semiconductor materials such as gallium arsenide, gallium phosphide, or gallium \n",
      "nitride. These materials have unique properties that enable them to emit light when an electric current is applied.\n",
      "Electroluminescence: When a voltage is applied across the semiconductor material of an LED, electrons and holes\n",
      "recombine within the semiconductor's crystal structure. This process releases energy in the form of photons, producing light.\n"
     ]
    }
   ],
   "source": [
    "file = open(\"example.txt\", \"w\")\n",
    "\n",
    "file.write('''Light Emitting Diodes (LEDs): LED displays consist of numerous individual LEDs arranged in a grid pattern.\n",
    "Each LED serves as a pixel on the display.\n",
    "Semiconductor Material: LEDs are made of semiconductor materials such as gallium arsenide, gallium phosphide, or gallium \n",
    "nitride. These materials have unique properties that enable them to emit light when an electric current is applied.\n",
    "Electroluminescence: When a voltage is applied across the semiconductor material of an LED, electrons and holes\n",
    "recombine within the semiconductor's crystal structure. This process releases energy in the form of photons, producing light.''')\n",
    "\n",
    "file.close()\n",
    "# Open the file in read mode\n",
    "\n",
    "file = open(\"example.txt\", \"r\")\n",
    "\n",
    "# Use the read method\n",
    "content = file.read()\n",
    "\n",
    "# Print the content\n",
    "print(content)\n",
    "\n",
    "# Always remember to close the file\n",
    "file.close()"
   ]
  },
  {
   "cell_type": "markdown",
   "id": "dfebb5e0-b4ee-4c75-94e9-6d5301c4396e",
   "metadata": {},
   "source": [
    "2. readline(): The readline() method reads one line from the file. You can also specify how many bytes from the line to return."
   ]
  },
  {
   "cell_type": "code",
   "execution_count": 10,
   "id": "f6fd7af3-7a8e-4040-8329-4db755e589ab",
   "metadata": {},
   "outputs": [
    {
     "name": "stdout",
     "output_type": "stream",
     "text": [
      "Light Emitting Diodes (LEDs): LED displays consist of numerous individual LEDs arranged in a grid pattern.\n",
      "\n"
     ]
    }
   ],
   "source": [
    "# Open the file in read mode\n",
    "file = open(\"example.txt\", \"r\")\n",
    "\n",
    "# Use the readline method\n",
    "line = file.readline()\n",
    "\n",
    "# Print the line\n",
    "print(line)\n",
    "\n",
    "# Always remember to close the file\n",
    "file.close()\n"
   ]
  },
  {
   "cell_type": "markdown",
   "id": "664a9e96-a771-4602-b0f9-4428a048a502",
   "metadata": {},
   "source": [
    "3. readlines(): The readlines() method returns a list where each element is a line in the file."
   ]
  },
  {
   "cell_type": "code",
   "execution_count": 11,
   "id": "9252d7d5-5053-417d-b35f-2c653c89f52e",
   "metadata": {},
   "outputs": [
    {
     "name": "stdout",
     "output_type": "stream",
     "text": [
      "Light Emitting Diodes (LEDs): LED displays consist of numerous individual LEDs arranged in a grid pattern.\n",
      "\n",
      "Each LED serves as a pixel on the display.\n",
      "\n",
      "Semiconductor Material: LEDs are made of semiconductor materials such as gallium arsenide, gallium phosphide, or gallium \n",
      "\n",
      "nitride. These materials have unique properties that enable them to emit light when an electric current is applied.\n",
      "\n",
      "Electroluminescence: When a voltage is applied across the semiconductor material of an LED, electrons and holes\n",
      "\n",
      "recombine within the semiconductor's crystal structure. This process releases energy in the form of photons, producing light.\n"
     ]
    }
   ],
   "source": [
    "# Open the file in read mode\n",
    "file = open(\"example.txt\", \"r\")\n",
    "\n",
    "# Use the readlines method\n",
    "lines = file.readlines()\n",
    "\n",
    "# Print the lines\n",
    "for line in lines:\n",
    "    print(line)\n",
    "\n",
    "# Always remember to close the file\n",
    "file.close()\n"
   ]
  },
  {
   "cell_type": "code",
   "execution_count": null,
   "id": "bc46fa1a-f87b-45e1-b008-d24bb28a65a6",
   "metadata": {},
   "outputs": [],
   "source": []
  },
  {
   "cell_type": "markdown",
   "id": "3e711e71-6f56-46d8-b51e-e051849f6dcb",
   "metadata": {},
   "source": [
    "### Q5. Explain why with statement is used with open(). What is the advantage of using with statement and open() together?"
   ]
  },
  {
   "cell_type": "markdown",
   "id": "3cbb693a-95f5-487b-a31c-77e88b2e55ff",
   "metadata": {},
   "source": [
    "The with statement in Python is used in conjunction with the open() function when working with files. The with statement ensures that resources are properly managed and cleaned up after the block of code inside it is executed. When used with the open() function, the with statement automatically closes the file once the block of code finishes executing. Here's why the with statement is used with open() and the advantages of using them together:"
   ]
  },
  {
   "cell_type": "markdown",
   "id": "b1950b56-2310-44e3-946c-0b334a83bdd8",
   "metadata": {},
   "source": [
    "Automatic File Closure: The with statement automatically closes the file once the nested block of code is executed, even if exceptions occur within the block. This means you don’t need to call file.close() explicitly.\n",
    "Exception Handling: If an error occurs while working with a file, the with statement ensures that the file is properly closed before the error is propagated.\n",
    "Code Readability: Using with makes the code cleaner and more readable.\n",
    "Resource Management: It helps avoid bugs and leaks by ensuring that resources are properly released when the code using the resource is completely executed."
   ]
  },
  {
   "cell_type": "code",
   "execution_count": 12,
   "id": "caac0432-fd45-4c92-a575-765c221fdc28",
   "metadata": {},
   "outputs": [
    {
     "name": "stdout",
     "output_type": "stream",
     "text": [
      "I want to become a Data Scientist\n"
     ]
    }
   ],
   "source": [
    "with open('text.txt', 'r') as file:\n",
    "    content = file.read()\n",
    "print(content)"
   ]
  },
  {
   "cell_type": "code",
   "execution_count": null,
   "id": "9db55fcf-80d8-4750-b6c8-502549c55dcc",
   "metadata": {},
   "outputs": [],
   "source": []
  },
  {
   "cell_type": "markdown",
   "id": "13ab747c-4dc3-4c36-9806-b892a88166e7",
   "metadata": {},
   "source": [
    "### Q6. Explain the write() and writelines() functions. Give a suitable example."
   ]
  },
  {
   "cell_type": "markdown",
   "id": "ff45f9cf-98ef-4e0f-8309-1b405053f502",
   "metadata": {},
   "source": [
    "1. write(): The write() function in Python is used to write a string to a file. It does not add any extra characters3. Here’s an example:"
   ]
  },
  {
   "cell_type": "code",
   "execution_count": 13,
   "id": "d60c88a8-cb9d-443c-9655-3bae69ea7d65",
   "metadata": {},
   "outputs": [],
   "source": [
    "# Open the file in write mode\n",
    "file = open(\"example1.txt\", \"w\")\n",
    "\n",
    "# Use the write method\n",
    "file.write(\"Hello, World!\")\n",
    "\n",
    "# Always remember to close the file\n",
    "file.close()\n"
   ]
  },
  {
   "cell_type": "markdown",
   "id": "369c8e4e-a1f8-4721-973d-ba6f9aebadfb",
   "metadata": {},
   "source": [
    "2. writelines(): The writelines() function writes a list of strings to the file. Unlike write(), which writes a single string, writelines() enables the writing of multiple strings in one go. This method does not add line breaks between the strings, so you must include them in your strings if needed. Here’s an example:"
   ]
  }
 ],
 "metadata": {
  "kernelspec": {
   "display_name": "Python 3 (ipykernel)",
   "language": "python",
   "name": "python3"
  },
  "language_info": {
   "codemirror_mode": {
    "name": "ipython",
    "version": 3
   },
   "file_extension": ".py",
   "mimetype": "text/x-python",
   "name": "python",
   "nbconvert_exporter": "python",
   "pygments_lexer": "ipython3",
   "version": "3.10.8"
  }
 },
 "nbformat": 4,
 "nbformat_minor": 5
}
